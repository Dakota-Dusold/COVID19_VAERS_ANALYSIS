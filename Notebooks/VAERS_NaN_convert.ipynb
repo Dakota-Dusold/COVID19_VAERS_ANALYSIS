{
 "cells": [
  {
   "cell_type": "code",

   "execution_count": 12,

   "execution_count": 1,

   "metadata": {},
   "outputs": [],
   "source": [
    "# Import depencencies\n",
    "import pandas as pd\n",
    "import numpy as np"
   ]
  },
  {
   "cell_type": "code",

   "execution_count": 13,

   "execution_count": 2,

   "metadata": {},
   "outputs": [],
   "source": [
    "# import csv\n",
    "# Files to load\n",
    "data_csv = \"Resources/Data/clean_vaers_data.csv\"\n",
    "vax_csv = \"Resources/Data/clean_vaers_vax.csv\"\n",
    "symptoms_csv = \"Resources/Data/grouped_vaers_symptoms.csv\""
   ]
  },
  {
   "cell_type": "code",

   "execution_count": 14,

   "execution_count": 3,

   "metadata": {},
   "outputs": [
    {
     "data": {
      "text/html": [
       "<div>\n",
       "<style scoped>\n",
       "    .dataframe tbody tr th:only-of-type {\n",
       "        vertical-align: middle;\n",
       "    }\n",
       "\n",
       "    .dataframe tbody tr th {\n",
       "        vertical-align: top;\n",
       "    }\n",
       "\n",
       "    .dataframe thead th {\n",
       "        text-align: right;\n",
       "    }\n",
       "</style>\n",
       "<table border=\"1\" class=\"dataframe\">\n",
       "  <thead>\n",
       "    <tr style=\"text-align: right;\">\n",
       "      <th></th>\n",
       "      <th>VAERS_ID</th>\n",
       "      <th>RECVDATE</th>\n",
       "      <th>STATE</th>\n",
       "      <th>AGE_YRS</th>\n",
       "      <th>SEX</th>\n",
       "      <th>SYMPTOM_TEXT</th>\n",
       "      <th>DIED</th>\n",
       "      <th>DATEDIED</th>\n",
       "      <th>L_THREAT</th>\n",
       "      <th>ER_VISIT</th>\n",
       "      <th>HOSPITAL</th>\n",
       "      <th>HOSPDAYS</th>\n",
       "      <th>X_STAY</th>\n",
       "      <th>DISABLE</th>\n",
       "      <th>RECOVD</th>\n",
       "      <th>VAX_DATE</th>\n",
       "      <th>HISTORY</th>\n",
       "      <th>BIRTH_DEFECT</th>\n",
       "    </tr>\n",
       "  </thead>\n",
       "  <tbody>\n",
       "    <tr>\n",
       "      <th>0</th>\n",
       "      <td>916600</td>\n",
       "      <td>01/01/2021</td>\n",
       "      <td>TX</td>\n",
       "      <td>33.0</td>\n",
       "      <td>F</td>\n",
       "      <td>Right side of epiglottis swelled up and hinder...</td>\n",
       "      <td>NaN</td>\n",
       "      <td>NaN</td>\n",
       "      <td>NaN</td>\n",
       "      <td>NaN</td>\n",
       "      <td>NaN</td>\n",
       "      <td>NaN</td>\n",
       "      <td>NaN</td>\n",
       "      <td>NaN</td>\n",
       "      <td>Y</td>\n",
       "      <td>12/28/2020</td>\n",
       "      <td>None</td>\n",
       "      <td>NaN</td>\n",
       "    </tr>\n",
       "    <tr>\n",
       "      <th>1</th>\n",
       "      <td>916601</td>\n",
       "      <td>01/01/2021</td>\n",
       "      <td>CA</td>\n",
       "      <td>73.0</td>\n",
       "      <td>F</td>\n",
       "      <td>Approximately 30 min post vaccination administ...</td>\n",
       "      <td>NaN</td>\n",
       "      <td>NaN</td>\n",
       "      <td>NaN</td>\n",
       "      <td>NaN</td>\n",
       "      <td>NaN</td>\n",
       "      <td>NaN</td>\n",
       "      <td>NaN</td>\n",
       "      <td>NaN</td>\n",
       "      <td>Y</td>\n",
       "      <td>12/31/2020</td>\n",
       "      <td>Patient residing at nursing facility. See pati...</td>\n",
       "      <td>NaN</td>\n",
       "    </tr>\n",
       "    <tr>\n",
       "      <th>2</th>\n",
       "      <td>916602</td>\n",
       "      <td>01/01/2021</td>\n",
       "      <td>WA</td>\n",
       "      <td>23.0</td>\n",
       "      <td>F</td>\n",
       "      <td>About 15 minutes after receiving the vaccine, ...</td>\n",
       "      <td>NaN</td>\n",
       "      <td>NaN</td>\n",
       "      <td>NaN</td>\n",
       "      <td>NaN</td>\n",
       "      <td>NaN</td>\n",
       "      <td>NaN</td>\n",
       "      <td>NaN</td>\n",
       "      <td>NaN</td>\n",
       "      <td>U</td>\n",
       "      <td>12/31/2020</td>\n",
       "      <td>None</td>\n",
       "      <td>NaN</td>\n",
       "    </tr>\n",
       "    <tr>\n",
       "      <th>3</th>\n",
       "      <td>916603</td>\n",
       "      <td>01/01/2021</td>\n",
       "      <td>WA</td>\n",
       "      <td>58.0</td>\n",
       "      <td>F</td>\n",
       "      <td>extreme fatigue, dizziness,. could not lift my...</td>\n",
       "      <td>NaN</td>\n",
       "      <td>NaN</td>\n",
       "      <td>NaN</td>\n",
       "      <td>NaN</td>\n",
       "      <td>NaN</td>\n",
       "      <td>NaN</td>\n",
       "      <td>NaN</td>\n",
       "      <td>NaN</td>\n",
       "      <td>Y</td>\n",
       "      <td>12/23/2020</td>\n",
       "      <td>diverticulitis, mitral valve prolapse, osteoar...</td>\n",
       "      <td>NaN</td>\n",
       "    </tr>\n",
       "    <tr>\n",
       "      <th>4</th>\n",
       "      <td>916604</td>\n",
       "      <td>01/01/2021</td>\n",
       "      <td>TX</td>\n",
       "      <td>47.0</td>\n",
       "      <td>F</td>\n",
       "      <td>Injection site swelling, redness, warm to the ...</td>\n",
       "      <td>NaN</td>\n",
       "      <td>NaN</td>\n",
       "      <td>NaN</td>\n",
       "      <td>NaN</td>\n",
       "      <td>NaN</td>\n",
       "      <td>NaN</td>\n",
       "      <td>NaN</td>\n",
       "      <td>NaN</td>\n",
       "      <td>N</td>\n",
       "      <td>12/22/2020</td>\n",
       "      <td>NaN</td>\n",
       "      <td>NaN</td>\n",
       "    </tr>\n",
       "  </tbody>\n",
       "</table>\n",
       "</div>"
      ],
      "text/plain": [
       "   VAERS_ID    RECVDATE STATE  AGE_YRS SEX  \\\n",
       "0    916600  01/01/2021    TX     33.0   F   \n",
       "1    916601  01/01/2021    CA     73.0   F   \n",
       "2    916602  01/01/2021    WA     23.0   F   \n",
       "3    916603  01/01/2021    WA     58.0   F   \n",
       "4    916604  01/01/2021    TX     47.0   F   \n",
       "\n",
       "                                        SYMPTOM_TEXT DIED DATEDIED L_THREAT  \\\n",
       "0  Right side of epiglottis swelled up and hinder...  NaN      NaN      NaN   \n",
       "1  Approximately 30 min post vaccination administ...  NaN      NaN      NaN   \n",
       "2  About 15 minutes after receiving the vaccine, ...  NaN      NaN      NaN   \n",
       "3  extreme fatigue, dizziness,. could not lift my...  NaN      NaN      NaN   \n",
       "4  Injection site swelling, redness, warm to the ...  NaN      NaN      NaN   \n",
       "\n",
       "  ER_VISIT HOSPITAL  HOSPDAYS X_STAY DISABLE RECOVD    VAX_DATE  \\\n",
       "0      NaN      NaN       NaN    NaN     NaN      Y  12/28/2020   \n",
       "1      NaN      NaN       NaN    NaN     NaN      Y  12/31/2020   \n",
       "2      NaN      NaN       NaN    NaN     NaN      U  12/31/2020   \n",
       "3      NaN      NaN       NaN    NaN     NaN      Y  12/23/2020   \n",
       "4      NaN      NaN       NaN    NaN     NaN      N  12/22/2020   \n",
       "\n",
       "                                             HISTORY BIRTH_DEFECT  \n",
       "0                                               None          NaN  \n",
       "1  Patient residing at nursing facility. See pati...          NaN  \n",
       "2                                               None          NaN  \n",
       "3  diverticulitis, mitral valve prolapse, osteoar...          NaN  \n",
       "4                                                NaN          NaN  "
      ]
     },

     "execution_count": 14,

     "execution_count": 3,

     "metadata": {},
     "output_type": "execute_result"
    }
   ],
   "source": [
    "# reading vaers data in dataframe\n",
    "vaers_data = pd.read_csv(data_csv, index_col=None, header=0, encoding='latin1', low_memory=False)\n",
    "vaers_data.head()"
   ]
  },
  {
   "cell_type": "code",
  "execution_count": 15,

   "execution_count": 8,

   "metadata": {},
   "outputs": [],
   "source": [
    "# converting NaN to 0 in vaers data\n",
    "vaersdata_na = vaers_data.fillna(0)"
   ]
  },
  {
   "cell_type": "code",

   "execution_count": 16,

   "execution_count": 9,

   "metadata": {},
   "outputs": [
    {
     "data": {
      "text/plain": [
       "VAERS_ID        0\n",
       "RECVDATE        0\n",
       "STATE           0\n",
       "AGE_YRS         0\n",
       "SEX             0\n",
       "SYMPTOM_TEXT    0\n",
       "DIED            0\n",
       "DATEDIED        0\n",
       "L_THREAT        0\n",
       "ER_VISIT        0\n",
       "HOSPITAL        0\n",
       "HOSPDAYS        0\n",
       "X_STAY          0\n",
       "DISABLE         0\n",
       "RECOVD          0\n",
       "VAX_DATE        0\n",
       "HISTORY         0\n",
       "BIRTH_DEFECT    0\n",
       "dtype: int64"
      ]
     },

     "execution_count": 16,

     "execution_count": 9,

     "metadata": {},
     "output_type": "execute_result"
    }
   ],
   "source": [
    "# checking if it worked. it did.\n",
    "vaersdata_na.isnull().sum()"
   ]
  },
  {
   "cell_type": "code",

   "execution_count": 17,

   "execution_count": 12,

   "metadata": {},
   "outputs": [
    {
     "data": {
      "text/html": [
       "<div>\n",
       "<style scoped>\n",
       "    .dataframe tbody tr th:only-of-type {\n",
       "        vertical-align: middle;\n",
       "    }\n",
       "\n",
       "    .dataframe tbody tr th {\n",
       "        vertical-align: top;\n",
       "    }\n",
       "\n",
       "    .dataframe thead th {\n",
       "        text-align: right;\n",
       "    }\n",
       "</style>\n",
       "<table border=\"1\" class=\"dataframe\">\n",
       "  <thead>\n",
       "    <tr style=\"text-align: right;\">\n",
       "      <th></th>\n",
       "      <th>VAERS_ID</th>\n",
       "      <th>VAX_TYPE</th>\n",
       "      <th>VAX_MANU</th>\n",
       "      <th>VAX_NAME</th>\n",
       "    </tr>\n",
       "  </thead>\n",
       "  <tbody>\n",
       "    <tr>\n",
       "      <th>0</th>\n",
       "      <td>916600</td>\n",
       "      <td>COVID19</td>\n",
       "      <td>MODERNA</td>\n",
       "      <td>COVID19 (COVID19 (MODERNA))</td>\n",
       "    </tr>\n",
       "    <tr>\n",
       "      <th>1</th>\n",
       "      <td>916601</td>\n",
       "      <td>COVID19</td>\n",
       "      <td>MODERNA</td>\n",
       "      <td>COVID19 (COVID19 (MODERNA))</td>\n",
       "    </tr>\n",
       "    <tr>\n",
       "      <th>2</th>\n",
       "      <td>916602</td>\n",
       "      <td>COVID19</td>\n",
       "      <td>PFIZER\\BIONTECH</td>\n",
       "      <td>COVID19 (COVID19 (PFIZER-BIONTECH))</td>\n",
       "    </tr>\n",
       "    <tr>\n",
       "      <th>3</th>\n",
       "      <td>916603</td>\n",
       "      <td>COVID19</td>\n",
       "      <td>MODERNA</td>\n",
       "      <td>COVID19 (COVID19 (MODERNA))</td>\n",
       "    </tr>\n",
       "    <tr>\n",
       "      <th>4</th>\n",
       "      <td>916604</td>\n",
       "      <td>COVID19</td>\n",
       "      <td>MODERNA</td>\n",
       "      <td>COVID19 (COVID19 (MODERNA))</td>\n",
       "    </tr>\n",
       "  </tbody>\n",
       "</table>\n",
       "</div>"
      ],
      "text/plain": [
       "   VAERS_ID VAX_TYPE         VAX_MANU                             VAX_NAME\n",
       "0    916600  COVID19          MODERNA          COVID19 (COVID19 (MODERNA))\n",
       "1    916601  COVID19          MODERNA          COVID19 (COVID19 (MODERNA))\n",
       "2    916602  COVID19  PFIZER\\BIONTECH  COVID19 (COVID19 (PFIZER-BIONTECH))\n",
       "3    916603  COVID19          MODERNA          COVID19 (COVID19 (MODERNA))\n",
       "4    916604  COVID19          MODERNA          COVID19 (COVID19 (MODERNA))"
      ]
     },

     "execution_count": 17,

     "execution_count": 12,

     "metadata": {},
     "output_type": "execute_result"
    }
   ],
   "source": [
    "# reading vax data\n",
    "vaers_vax = pd.read_csv(vax_csv, index_col=None, header=0, encoding='latin1', low_memory=False)\n",
    "vaers_vax.head()"
   ]
  },
  {
   "cell_type": "code",

   "execution_count": 18,

   "execution_count": 13,

   "metadata": {},
   "outputs": [
    {
     "data": {
      "text/plain": [
       "VAERS_ID    0\n",
       "VAX_TYPE    0\n",
       "VAX_MANU    0\n",
       "VAX_NAME    0\n",
       "dtype: int64"
      ]
     },

     "execution_count": 18,

     "execution_count": 13,

     "metadata": {},
     "output_type": "execute_result"
    }
   ],
   "source": [
    "# checking if there is NaN values. there isnt\n",
    "vaers_vax.isnull().sum()"
   ]
  },
  {
   "cell_type": "code",

   "execution_count": 19,

   "execution_count": 14,

   "metadata": {},
   "outputs": [
    {
     "data": {
      "text/html": [
       "<div>\n",
       "<style scoped>\n",
       "    .dataframe tbody tr th:only-of-type {\n",
       "        vertical-align: middle;\n",
       "    }\n",
       "\n",
       "    .dataframe tbody tr th {\n",
       "        vertical-align: top;\n",
       "    }\n",
       "\n",
       "    .dataframe thead th {\n",
       "        text-align: right;\n",
       "    }\n",
       "</style>\n",
       "<table border=\"1\" class=\"dataframe\">\n",
       "  <thead>\n",
       "    <tr style=\"text-align: right;\">\n",
       "      <th></th>\n",
       "      <th>VAERS_ID</th>\n",
       "      <th>SYMPTOM1</th>\n",
       "      <th>SYMPTOM2</th>\n",
       "      <th>SYMPTOM3</th>\n",
       "      <th>SYMPTOM4</th>\n",
       "      <th>SYMPTOM5</th>\n",
       "    </tr>\n",
       "  </thead>\n",
       "  <tbody>\n",
       "    <tr>\n",
       "      <th>0</th>\n",
       "      <td>916600</td>\n",
       "      <td>Dysphagia</td>\n",
       "      <td>Epiglottitis</td>\n",
       "      <td>NaN</td>\n",
       "      <td>NaN</td>\n",
       "      <td>NaN</td>\n",
       "    </tr>\n",
       "    <tr>\n",
       "      <th>1</th>\n",
       "      <td>916601</td>\n",
       "      <td>Anxiety</td>\n",
       "      <td>Dyspnoea</td>\n",
       "      <td>NaN</td>\n",
       "      <td>NaN</td>\n",
       "      <td>NaN</td>\n",
       "    </tr>\n",
       "    <tr>\n",
       "      <th>2</th>\n",
       "      <td>916602</td>\n",
       "      <td>Chest discomfort</td>\n",
       "      <td>Dysphagia</td>\n",
       "      <td>Pain in extremity</td>\n",
       "      <td>Visual impairment</td>\n",
       "      <td>NaN</td>\n",
       "    </tr>\n",
       "    <tr>\n",
       "      <th>3</th>\n",
       "      <td>916603</td>\n",
       "      <td>Dizziness</td>\n",
       "      <td>Fatigue</td>\n",
       "      <td>Mobility decreased</td>\n",
       "      <td>NaN</td>\n",
       "      <td>NaN</td>\n",
       "    </tr>\n",
       "    <tr>\n",
       "      <th>4</th>\n",
       "      <td>916604</td>\n",
       "      <td>Injection site erythema</td>\n",
       "      <td>Injection site pruritus</td>\n",
       "      <td>Injection site swelling</td>\n",
       "      <td>Injection site warmth</td>\n",
       "      <td>NaN</td>\n",
       "    </tr>\n",
       "  </tbody>\n",
       "</table>\n",
       "</div>"
      ],
      "text/plain": [
       "   VAERS_ID                 SYMPTOM1                 SYMPTOM2  \\\n",
       "0    916600                Dysphagia             Epiglottitis   \n",
       "1    916601                  Anxiety                 Dyspnoea   \n",
       "2    916602         Chest discomfort                Dysphagia   \n",
       "3    916603                Dizziness                  Fatigue   \n",
       "4    916604  Injection site erythema  Injection site pruritus   \n",
       "\n",
       "                  SYMPTOM3               SYMPTOM4 SYMPTOM5  \n",
       "0                      NaN                    NaN      NaN  \n",
       "1                      NaN                    NaN      NaN  \n",
       "2        Pain in extremity      Visual impairment      NaN  \n",
       "3       Mobility decreased                    NaN      NaN  \n",
       "4  Injection site swelling  Injection site warmth      NaN  "
      ]
     },

 "execution_count": 19,

     "execution_count": 14,

     "metadata": {},
     "output_type": "execute_result"
    }
   ],
   "source": [
    "# reading vaers symptoms as dataframe\n",
    "vaers_symptoms = pd.read_csv(symptoms_csv, index_col=None, header=0, encoding='latin1', low_memory=False)\n",
    "vaers_symptoms.head()"
   ]
  },
  {
   "cell_type": "code",

   "execution_count": 20,

   "execution_count": 17,

   "metadata": {},
   "outputs": [
    {
     "data": {
      "text/html": [
       "<div>\n",
       "<style scoped>\n",
       "    .dataframe tbody tr th:only-of-type {\n",
       "        vertical-align: middle;\n",
       "    }\n",
       "\n",
       "    .dataframe tbody tr th {\n",
       "        vertical-align: top;\n",
       "    }\n",
       "\n",
       "    .dataframe thead th {\n",
       "        text-align: right;\n",
       "    }\n",
       "</style>\n",
       "<table border=\"1\" class=\"dataframe\">\n",
       "  <thead>\n",
       "    <tr style=\"text-align: right;\">\n",
       "      <th></th>\n",
       "      <th>VAERS_ID</th>\n",
       "      <th>SYMPTOM1</th>\n",
       "      <th>SYMPTOM2</th>\n",
       "      <th>SYMPTOM3</th>\n",
       "      <th>SYMPTOM4</th>\n",
       "      <th>SYMPTOM5</th>\n",
       "    </tr>\n",
       "  </thead>\n",
       "  <tbody>\n",
       "    <tr>\n",
       "      <th>0</th>\n",
       "      <td>916600</td>\n",
       "      <td>Dysphagia</td>\n",
       "      <td>Epiglottitis</td>\n",
       "      <td>0</td>\n",
       "      <td>0</td>\n",
       "      <td>0</td>\n",
       "    </tr>\n",
       "    <tr>\n",
       "      <th>1</th>\n",
       "      <td>916601</td>\n",
       "      <td>Anxiety</td>\n",
       "      <td>Dyspnoea</td>\n",
       "      <td>0</td>\n",
       "      <td>0</td>\n",
       "      <td>0</td>\n",
       "    </tr>\n",
       "    <tr>\n",
       "      <th>2</th>\n",
       "      <td>916602</td>\n",
       "      <td>Chest discomfort</td>\n",
       "      <td>Dysphagia</td>\n",
       "      <td>Pain in extremity</td>\n",
       "      <td>Visual impairment</td>\n",
       "      <td>0</td>\n",
       "    </tr>\n",
       "    <tr>\n",
       "      <th>3</th>\n",
       "      <td>916603</td>\n",
       "      <td>Dizziness</td>\n",
       "      <td>Fatigue</td>\n",
       "      <td>Mobility decreased</td>\n",
       "      <td>0</td>\n",
       "      <td>0</td>\n",
       "    </tr>\n",
       "    <tr>\n",
       "      <th>4</th>\n",
       "      <td>916604</td>\n",
       "      <td>Injection site erythema</td>\n",
       "      <td>Injection site pruritus</td>\n",
       "      <td>Injection site swelling</td>\n",
       "      <td>Injection site warmth</td>\n",
       "      <td>0</td>\n",
       "    </tr>\n",
       "  </tbody>\n",
       "</table>\n",
       "</div>"
      ],
      "text/plain": [
       "   VAERS_ID                 SYMPTOM1                 SYMPTOM2  \\\n",
       "0    916600                Dysphagia             Epiglottitis   \n",
       "1    916601                  Anxiety                 Dyspnoea   \n",
       "2    916602         Chest discomfort                Dysphagia   \n",
       "3    916603                Dizziness                  Fatigue   \n",
       "4    916604  Injection site erythema  Injection site pruritus   \n",
       "\n",
       "                  SYMPTOM3               SYMPTOM4 SYMPTOM5  \n",
       "0                        0                      0        0  \n",
       "1                        0                      0        0  \n",
       "2        Pain in extremity      Visual impairment        0  \n",
       "3       Mobility decreased                      0        0  \n",
       "4  Injection site swelling  Injection site warmth        0  "
      ]
     },

     "execution_count": 20,

     "execution_count": 17,

     "metadata": {},
     "output_type": "execute_result"
    }
   ],
   "source": [
    "# converting NaN to 0 in symptoms df\n",
    "vaerssymptoms_na = vaers_symptoms.fillna(0)\n",
    "vaerssymptoms_na.head()"
   ]
  },
  {
   "cell_type": "code",

   "execution_count": 21,

   "execution_count": 16,

   "metadata": {},
   "outputs": [
    {
     "data": {
      "text/plain": [
       "VAERS_ID    0\n",
       "SYMPTOM1    0\n",
       "SYMPTOM2    0\n",
       "SYMPTOM3    0\n",
       "SYMPTOM4    0\n",
       "SYMPTOM5    0\n",
       "dtype: int64"
      ]
     },

     "execution_count": 21,

     "execution_count": 16,

     "metadata": {},
     "output_type": "execute_result"
    }
   ],
   "source": [
    "# checking if it worked. yup it worked.\n",
    "vaerssymptoms_na.isnull().sum()"
   ]
  },
  {
   "cell_type": "code",

   "execution_count": 23,

   "execution_count": 18,

   "metadata": {},
   "outputs": [],
   "source": [
    "# rewriting clean csv files to change NaN to 0\n",
    "vaersdata_na.to_csv(r'Resources/Data/clean_vaers_data.csv', index=True)\n",
    "vaerssymptoms_na.to_csv(r'Resources/Data/grouped_vaers_symptoms.csv', index=True)"
   ]
  }
 ],
 "metadata": {
  "kernelspec": {
   "display_name": "Python 3",
   "language": "python",
   "name": "python3"
  },
  "language_info": {
   "codemirror_mode": {
    "name": "ipython",
    "version": 3
   },
   "file_extension": ".py",
   "mimetype": "text/x-python",
   "name": "python",
   "nbconvert_exporter": "python",
   "pygments_lexer": "ipython3",
   "version": "3.8.5"
  }
 },
 "nbformat": 4,
 "nbformat_minor": 4
}
